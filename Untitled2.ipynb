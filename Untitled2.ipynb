{
 "cells": [
  {
   "cell_type": "code",
   "execution_count": 178,
   "id": "45749036",
   "metadata": {},
   "outputs": [],
   "source": [
    "import pandas as pd\n",
    "import pandas as pd\n",
    "import numpy as np\n",
    "from sklearn.preprocessing import OneHotEncoder\n",
    "from sklearn.model_selection import train_test_split\n",
    "from sklearn.linear_model import LogisticRegression\n",
    "import sklearn.metrics as metrics\n",
    "from sklearn.neighbors import KNeighborsClassifier\n",
    "from sklearn.model_selection import RandomizedSearchCV\n",
    "from scipy.stats import randint\n",
    "from sklearn.ensemble import RandomForestClassifier\n",
    "from sklearn.preprocessing import MinMaxScaler\n",
    "from pickle import dump"
   ]
  },
  {
   "cell_type": "code",
   "execution_count": 179,
   "id": "775f969a",
   "metadata": {},
   "outputs": [
    {
     "name": "stdout",
     "output_type": "stream",
     "text": [
      "<class 'pandas.core.frame.DataFrame'>\n",
      "RangeIndex: 7043 entries, 0 to 7042\n",
      "Data columns (total 21 columns):\n",
      " #   Column            Non-Null Count  Dtype  \n",
      "---  ------            --------------  -----  \n",
      " 0   customerID        7043 non-null   object \n",
      " 1   gender            7043 non-null   object \n",
      " 2   SeniorCitizen     7043 non-null   int64  \n",
      " 3   Partner           7043 non-null   object \n",
      " 4   Dependents        7043 non-null   object \n",
      " 5   tenure            7043 non-null   int64  \n",
      " 6   PhoneService      7043 non-null   object \n",
      " 7   MultipleLines     7043 non-null   object \n",
      " 8   InternetService   7043 non-null   object \n",
      " 9   OnlineSecurity    7043 non-null   object \n",
      " 10  OnlineBackup      7043 non-null   object \n",
      " 11  DeviceProtection  7043 non-null   object \n",
      " 12  TechSupport       7043 non-null   object \n",
      " 13  StreamingTV       7043 non-null   object \n",
      " 14  StreamingMovies   7043 non-null   object \n",
      " 15  Contract          7043 non-null   object \n",
      " 16  PaperlessBilling  7043 non-null   object \n",
      " 17  PaymentMethod     7043 non-null   object \n",
      " 18  MonthlyCharges    7043 non-null   float64\n",
      " 19  TotalCharges      7043 non-null   object \n",
      " 20  Churn             7043 non-null   object \n",
      "dtypes: float64(1), int64(2), object(18)\n",
      "memory usage: 1.1+ MB\n"
     ]
    }
   ],
   "source": [
    "df = pd.read_csv('WA_Fn-UseC_-Telco-Customer-Churn.csv')\n",
    "path = 'WA_Fn-UseC_-Telco-Customer-Churn.csv'\n",
    "df.info()"
   ]
  },
  {
   "cell_type": "code",
   "execution_count": 180,
   "id": "f0f20c7d",
   "metadata": {},
   "outputs": [],
   "source": [
    "def import_file(path):\n",
    "    df = pd.read_csv('WA_Fn-UseC_-Telco-Customer-Churn.csv')\n",
    "    return df"
   ]
  },
  {
   "cell_type": "code",
   "execution_count": 181,
   "id": "a1ad454f",
   "metadata": {},
   "outputs": [],
   "source": [
    "def preprocess_file(input_file,path):\n",
    "    #Dropping irrelevant Column\n",
    "    input_file = input_file.drop(['customerID'], axis=1)\n",
    "    target = input_file['Churn']\n",
    "\n",
    "    input_file['TotalCharges']=input_file['TotalCharges'].replace(' ',)\n",
    "\n",
    "    input_file['TotalCharges']=input_file['TotalCharges'].astype(str).astype(float)\n",
    "\n",
    "    input_file = input_file.drop(['Churn'],axis = 1)\n",
    "\n",
    "    one_hot_encoded_data = pd.get_dummies(input_file)\n",
    "    return one_hot_encoded_data"
   ]
  },
  {
   "cell_type": "code",
   "execution_count": 182,
   "id": "525f9c31",
   "metadata": {},
   "outputs": [],
   "source": [
    "def pred_model(path):\n",
    "    step1 = import_file(path)\n",
    "    step2 = preprocess_file(step1,path)\n",
    "    model = pickle.load(open('model.pkl', 'rb'))\n",
    "    scaler = pickle.load(open('scaler.pkl', 'rb'))\n",
    "    data_split = step2[['TotalCharges','MonthlyCharges']]\n",
    "    scaled_split = scaler.transform(data_split)\n",
    "    step2 = step2.drop(['TotalCharges'], axis=1)\n",
    "    step2 = step2.drop(['MonthlyCharges'], axis=1)\n",
    "    step2[['TotalCharges','MonthlyCharges']] = scaled_split\n",
    "    result = model.predict(step2)\n",
    "    return result"
   ]
  },
  {
   "cell_type": "code",
   "execution_count": 183,
   "id": "32967523",
   "metadata": {
    "scrolled": true
   },
   "outputs": [],
   "source": [
    "x=pred_model(path)"
   ]
  }
 ],
 "metadata": {
  "kernelspec": {
   "display_name": "Python 3 (ipykernel)",
   "language": "python",
   "name": "python3"
  },
  "language_info": {
   "codemirror_mode": {
    "name": "ipython",
    "version": 3
   },
   "file_extension": ".py",
   "mimetype": "text/x-python",
   "name": "python",
   "nbconvert_exporter": "python",
   "pygments_lexer": "ipython3",
   "version": "3.9.12"
  }
 },
 "nbformat": 4,
 "nbformat_minor": 5
}
